{
  "nbformat": 4,
  "nbformat_minor": 0,
  "metadata": {
    "colab": {
      "provenance": [],
      "include_colab_link": true
    },
    "kernelspec": {
      "name": "python3",
      "display_name": "Python 3"
    },
    "language_info": {
      "name": "python"
    }
  },
  "cells": [
    {
      "cell_type": "markdown",
      "metadata": {
        "id": "view-in-github",
        "colab_type": "text"
      },
      "source": [
        "<a href=\"https://colab.research.google.com/github/thetjswo/AIFFEL_Online_Quest/blob/main/Quest04/Turtle.ipynb\" target=\"_parent\"><img src=\"https://colab.research.google.com/assets/colab-badge.svg\" alt=\"Open In Colab\"/></a>"
      ]
    },
    {
      "cell_type": "markdown",
      "source": [
        "[파이썬] 퀘스트: 거북이 미로찾기\n",
        "\n",
        "난이도: ★★★☆☆\n",
        "\n",
        "장르: ColabTurtlePlus, 함수, 조건문 활용\n",
        "\n",
        "다음은 ColabTurtle을 사용하여 미로를 찾는 문제. 조건을 확인하여 거북이가 미로를 헤매지 않도록 출구를 찾아주도록 하자.\n",
        "\n",
        "조건 : 미로는 5x5의 2차원 리스트로 주어진다. 시작 위치는 (0,0)이고 목적지는 (4,4)이다. 터틀은 상하좌우로 움직일 수 있다. 미로 내에서 갈 수 있는 길은 0으로 표시되어 있다. 터틀이 이미 지나간 길은 2로 표시해야한다. 거북이가 미로를 찾아 나가면 \"미로를 찾았습니다.\", 미로를 찾을 수 없으면 \"미로를 찾을 수 없습니다.\"가 나올 수 있도록 만들어보자!\n",
        "\n",
        "주석으로 구현 내용이 써있는 부분을 코드로 채워주세요!!\n",
        "코드를 해석해주세요 부분은 코드에 대한 설명을 주석으로 써주세요!!\n",
        "결과물은 다음과 같아야 합니다 :)\n",
        "\n",
        "image.png\n",
        "\n"
      ],
      "metadata": {
        "id": "-pc47fR3kPge"
      }
    },
    {
      "cell_type": "markdown",
      "source": [
        "> # 최종 결과물\n",
        "- 코드 작성 과정\n",
        "- 에러 발생\n",
        "- 조치 방법\n",
        "- 발전형 추가\n",
        "- 회고\n"
      ],
      "metadata": {
        "id": "e61ollte6e_V"
      }
    },
    {
      "cell_type": "code",
      "source": [
        "# 최종 결과분\n",
        "!pip install ColabTurtlePlus # ColabTurtle 라이브러리 설치\n",
        "from ColabTurtlePlus.Turtle import * # ColabTurtle 라이브러리에서 Turtle 클래스를 import\n",
        "\n",
        "\n",
        "# 미로 데이터\n",
        "maze = [\n",
        "    [0, 1, 0, 0, 0],\n",
        "    [0, 0, 0, 1, 0],\n",
        "    [0, 1, 1, 0, 0],\n",
        "    [0, 0, 1, 1, 0],\n",
        "    [0, 0, 0, 0, 0]\n",
        "]\n",
        "\n",
        "# 추가 : 초기값 지정\n",
        "cnt = 0\n",
        "# 시작 위치와 목적지 위치\n",
        "start_x, start_y = 0, 0\n",
        "end_x, end_y = 4, 4\n",
        "\n",
        "# 터틀 초기 설정\n",
        "window = (300, 300)\n",
        "initializeTurtle(window, 'logo')\n",
        "speed(1)\n",
        "\n",
        "# 미로 찾기 알고리즘\n",
        "def solve_maze(x, y):\n",
        "  global cnt\n",
        "  # 목적지에 도착한 경우 - 현재 좌표와 목적지 좌표 비교\n",
        "  if x == end_x and y == end_y:\n",
        "\n",
        "      # \"미로를 찾았습니다\" 라는 문장을 출력하고\n",
        "      print('미로를 찾았습니다.')\n",
        "\n",
        "      # True를 반환한다.\n",
        "      return True\n",
        "\n",
        "  # 현재 위치에서 갈 수 있는 방향(상,하,좌,우) 탐색\n",
        "  for dx, dy in [(0, 1), (1, 0), (0, -1), (-1, 0)]:\n",
        "      nx, ny = x + dx, y + dy # 이동 좌표\n",
        "\n",
        "      # 미로 범위(0,0 ~ 4,4) 내에 있고, 갈 수 있는 길(좌표 값이 0)인 경우\n",
        "      if 0 <= nx < 5 and 0 <= ny < 5 and maze[nx][ny] == 0:\n",
        "\n",
        "          # 갔던 길 표시(좌표값 2로 변경)\n",
        "          maze[nx][ny] = 2\n",
        "          # 가는 길의 펜색을 보라색으로 설정\n",
        "          pencolor('purple')\n",
        "\n",
        "          # 도화지에 펜 붙이기\n",
        "          pendown()\n",
        "\n",
        "          # 다음 위치로 이동\n",
        "          goto(nx*30, ny*30)  # 거북이 다음 위치로 이동(각 축 30만큼 이동)\n",
        "\n",
        "          # 도화지에서 펜 떼기\n",
        "          penup()\n",
        "\n",
        "          # 코드를 해석해주세요!!\n",
        "          # solve_maze()함수를 호출하고, 목적지에 도착을 했다면 True를 반환하여 if 조건문을 통과한 뒤 다시 True를 반환한다.\n",
        "          # 그게 아니라면 이전으로 돌아간다.\n",
        "          if solve_maze(nx, ny):\n",
        "              return True\n",
        "          else:\n",
        "              # 다시 이전으로 돌아가기\n",
        "              # 펜 색을 빨간색으로 설정\n",
        "              pencolor('red')\n",
        "\n",
        "              # 도화지에 펜 붙이기\n",
        "              pendown()\n",
        "              # 돌아가는 길을 각 축 30씩 이동\n",
        "              goto(x*30, y*30)\n",
        "              # 도화지에서 펜 떼기\n",
        "              penup()\n",
        "              # 표시된 길 0표시(지우기)\n",
        "              maze[nx][ny] = 0\n",
        "\n",
        "  # 길을 찾지 못한 경우\n",
        "  # \"길을 찾을 수 없습니다\"를 출력하고\n",
        "  # False를 리턴\n",
        "  # 5번동안 찾지 못하면 길찾기 종료\n",
        "  if cnt < 5:\n",
        "    print(\"길을 찾을 수 없습니다.\")\n",
        "    cnt += 1\n",
        "    return False\n",
        "  else:\n",
        "    print(\"더 이상 길을 찾지 않겠습니다.\")\n",
        "    return True\n",
        "\n",
        "# 시작 위치에서 미로 찾기 시작\n",
        "goto(start_x, start_y)\n",
        "solve_maze(start_x, start_y)\n",
        "import pprint\n",
        "pprint.pprint(maze)"
      ],
      "metadata": {
        "id": "EJ3wyey_kRA0",
        "colab": {
          "base_uri": "https://localhost:8080/",
          "height": 243
        },
        "outputId": "737dd1e9-e060-4b3d-ee47-3ae8e9613a94"
      },
      "execution_count": null,
      "outputs": [
        {
          "output_type": "stream",
          "name": "stdout",
          "text": [
            "Requirement already satisfied: ColabTurtlePlus in /usr/local/lib/python3.10/dist-packages (2.0.1)\n"
          ]
        },
        {
          "output_type": "display_data",
          "data": {
            "text/plain": [
              "<IPython.core.display.HTML object>"
            ],
            "text/html": [
              "\n",
              "      <svg width=\"100\" height=\"100\">  \n",
              "        <rect width=\"100%\" height=\"100%\" style=\"fill:white;stroke:;stroke-width:1\"/>\n",
              "        \n",
              "        \n",
              "        <line x1=\"50.0\" y1=\"50.0\" x2=\"50.0\" y2=\"50.0\" stroke-linecap=\"round\" style=\"stroke:black;stroke-width:1\" /><line x1=\"50.0\" y1=\"50.0\" x2=\"60.0\" y2=\"50.0\" stroke-linecap=\"round\" style=\"stroke:purple;stroke-width:1\" /><line x1=\"60.0\" y1=\"50.0\" x2=\"60.0\" y2=\"40.0\" stroke-linecap=\"round\" style=\"stroke:purple;stroke-width:1\" /><line x1=\"60.0\" y1=\"40.0\" x2=\"60.0\" y2=\"30.0\" stroke-linecap=\"round\" style=\"stroke:purple;stroke-width:1\" /><line x1=\"60.0\" y1=\"30.0\" x2=\"50.0\" y2=\"30.0\" stroke-linecap=\"round\" style=\"stroke:purple;stroke-width:1\" /><line x1=\"50.0\" y1=\"30.0\" x2=\"50.0\" y2=\"20.0\" stroke-linecap=\"round\" style=\"stroke:purple;stroke-width:1\" /><line x1=\"50.0\" y1=\"20.0\" x2=\"50.0\" y2=\"10.0\" stroke-linecap=\"round\" style=\"stroke:purple;stroke-width:1\" /><line x1=\"50.0\" y1=\"10.0\" x2=\"60.0\" y2=\"10.0\" stroke-linecap=\"round\" style=\"stroke:purple;stroke-width:1\" /><line x1=\"60.0\" y1=\"10.0\" x2=\"70.0\" y2=\"10.0\" stroke-linecap=\"round\" style=\"stroke:purple;stroke-width:1\" /><line x1=\"70.0\" y1=\"10.0\" x2=\"80.0\" y2=\"10.0\" stroke-linecap=\"round\" style=\"stroke:purple;stroke-width:1\" /><line x1=\"80.0\" y1=\"10.0\" x2=\"90.0\" y2=\"10.0\" stroke-linecap=\"round\" style=\"stroke:purple;stroke-width:1\" />\n",
              "        \n",
              "        \n",
              "        <g id=\"classic\" visibility=\"visible\" transform=\"rotate(-180.0,90.0,10.0) translate(90.0, 10.0)\">\n",
              "<polygon points=\"-5,-4.5 0,-2.5 5,-4.5 0,4.5\" transform=\"skewX(0) scale(1,1)\" style=\"stroke:purple;fill:black;stroke-width:1\" />\n",
              "</g>\n",
              "      </svg>\n",
              "    "
            ]
          },
          "metadata": {}
        },
        {
          "output_type": "stream",
          "name": "stdout",
          "text": [
            "미로를 찾았습니다.\n",
            "[[0, 1, 2, 2, 2],\n",
            " [2, 2, 2, 1, 2],\n",
            " [0, 1, 1, 0, 2],\n",
            " [0, 0, 1, 1, 2],\n",
            " [0, 0, 0, 0, 2]]\n"
          ]
        }
      ]
    },
    {
      "cell_type": "markdown",
      "source": [
        "> ### 에러 발생 및 조치 방법\n",
        "- 에러\n",
        " goto()함수가 의미하는 바를 몰라 새로 정의하려는 시도를 했다.\n",
        "\n",
        "- 조치\n",
        " 1. 상하좌우로 이동하는 코드를 새로 만드려 하다가 위의 for문에서 이미 존재하는 것을 확인하고, 주석을 따라서 코드를 작성해보며 전체적인 동작을 이해하려고 시도했다.\n",
        " 2. 코드 완성 후, 구글 검색 결과 goto()함수는 turtle 내부 함수임을 확인했다."
      ],
      "metadata": {
        "id": "BE3R01C98MC3"
      }
    },
    {
      "cell_type": "markdown",
      "source": [
        "> ## 발전형 추가\n",
        "- 사이즈 확대 테스트\n",
        "- 돌아가는 길 확인 & 길이 막힌 경우 테스트"
      ],
      "metadata": {
        "id": "4H1Qmb3K7qjH"
      }
    },
    {
      "cell_type": "code",
      "source": [
        "# 사이즈 확대 테스트\n",
        "!pip install ColabTurtlePlus # ColabTurtle 라이브러리 설치\n",
        "from ColabTurtlePlus.Turtle import * # ColabTurtle 라이브러리에서 Turtle 클래스를 import\n",
        "\n",
        "\n",
        "# 미로 데이터\n",
        "maze = [\n",
        "    [0, 1, 0, 0, 0, 0, 1, 0, 0, 0],\n",
        "    [0, 0, 0, 1, 0, 0, 1, 0, 1, 0],\n",
        "    [0, 1, 1, 0, 0, 0, 0, 0, 0, 0],\n",
        "    [0, 0, 1, 1, 0, 1, 1, 0, 1, 0],\n",
        "    [0, 0, 0, 0, 0, 1, 1, 1, 0, 0],\n",
        "    [0, 1, 0, 0, 0, 0, 1, 0, 0, 0],\n",
        "    [0, 0, 0, 1, 0, 0, 1, 0, 1, 0],\n",
        "    [0, 1, 1, 0, 0, 0, 0, 0, 0, 0],\n",
        "    [0, 0, 1, 1, 0, 1, 1, 0, 1, 0],\n",
        "    [0, 0, 0, 0, 0, 1, 1, 1, 0, 0]\n",
        "]\n",
        "\n",
        "# 추가 : 초기값 지정\n",
        "cnt = 0\n",
        "# 시작 위치와 목적지 위치\n",
        "start_x, start_y = 0, 0\n",
        "end_x, end_y = 10, 10\n",
        "\n",
        "# 터틀 초기 설정\n",
        "window = (300, 300)\n",
        "initializeTurtle(window, 'logo')\n",
        "speed(1)\n",
        "\n",
        "# 미로 찾기 알고리즘\n",
        "def solve_maze(x, y):\n",
        "  global cnt\n",
        "  # 목적지에 도착한 경우 - 현재 좌표와 목적지 좌표 비교\n",
        "  if x == end_x and y == end_y:\n",
        "\n",
        "      # \"미로를 찾았습니다\" 라는 문장을 출력하고\n",
        "      print('미로를 찾았습니다.')\n",
        "\n",
        "      # True를 반환한다.\n",
        "      return True\n",
        "\n",
        "  # 현재 위치에서 갈 수 있는 방향(상,하,좌,우) 탐색\n",
        "  for dx, dy in [(0, 1), (1, 0), (0, -1), (-1, 0)]:\n",
        "      nx, ny = x + dx, y + dy # 이동 좌표\n",
        "\n",
        "      # 미로 범위(0,0 ~ 4,4) 내에 있고, 갈 수 있는 길(좌표 값이 0)인 경우\n",
        "      if 0 <= nx < 5 and 0 <= ny < 5 and maze[nx][ny] == 0:\n",
        "\n",
        "          # 갔던 길 표시(좌표값 2로 변경)\n",
        "          maze[nx][ny] = 2\n",
        "          # 가는 길의 펜색을 보라색으로 설정\n",
        "          pencolor('purple')\n",
        "\n",
        "          # 도화지에 펜 붙이기\n",
        "          pendown()\n",
        "\n",
        "          # 다음 위치로 이동\n",
        "          goto(nx*30, ny*30)  # 거북이 다음 위치로 이동(각 축 30만큼 이동)\n",
        "\n",
        "          # 도화지에서 펜 떼기\n",
        "          penup()\n",
        "\n",
        "          # 코드를 해석해주세요!!\n",
        "          # solve_maze()함수를 호출하고, 목적지에 도착을 했다면 True를 반환하여 if 조건문을 통과한 뒤 다시 True를 반환한다.\n",
        "          # 그게 아니라면 이전으로 돌아간다.\n",
        "          if solve_maze(nx, ny):\n",
        "              return True\n",
        "          else:\n",
        "              # 다시 이전으로 돌아가기\n",
        "              # 펜 색을 빨간색으로 설정\n",
        "              pencolor('red')\n",
        "\n",
        "              # 도화지에 펜 붙이기\n",
        "              pendown()\n",
        "              # 돌아가는 길을 각 축 30씩 이동\n",
        "              goto(x*30, y*30)\n",
        "              # 도화지에서 펜 떼기\n",
        "              penup()\n",
        "              # 표시된 길 0표시(지우기)\n",
        "              maze[nx][ny] = 0\n",
        "\n",
        "  # 길을 찾지 못한 경우\n",
        "  # \"길을 찾을 수 없습니다\"를 출력하고\n",
        "  # False를 리턴\n",
        "  # 5번동안 찾지 못하면 길찾기 종료\n",
        "  if cnt < 5:\n",
        "    print(\"길을 찾을 수 없습니다.\")\n",
        "    cnt += 1\n",
        "    return False\n",
        "  else:\n",
        "    print(\"더 이상 길을 찾지 않겠습니다.\")\n",
        "    return True\n",
        "\n",
        "# 시작 위치에서 미로 찾기 시작\n",
        "goto(start_x, start_y)\n",
        "solve_maze(start_x, start_y)\n",
        "import pprint\n",
        "pprint.pprint(maze)"
      ],
      "metadata": {
        "colab": {
          "base_uri": "https://localhost:8080/",
          "height": 625
        },
        "id": "xCqLUZu6uxYf",
        "outputId": "1ab796fa-3a2b-4297-ece5-51942a922b72"
      },
      "execution_count": null,
      "outputs": [
        {
          "output_type": "stream",
          "name": "stdout",
          "text": [
            "Requirement already satisfied: ColabTurtlePlus in /usr/local/lib/python3.10/dist-packages (2.0.1)\n"
          ]
        },
        {
          "output_type": "display_data",
          "data": {
            "text/plain": [
              "<IPython.core.display.HTML object>"
            ],
            "text/html": [
              "\n",
              "      <svg width=\"300\" height=\"300\">  \n",
              "        <rect width=\"100%\" height=\"100%\" style=\"fill:white;stroke:;stroke-width:1\"/>\n",
              "        \n",
              "        \n",
              "        <line x1=\"150.0\" y1=\"150.0\" x2=\"150.0\" y2=\"150.0\" stroke-linecap=\"round\" style=\"stroke:black;stroke-width:1\" /><line x1=\"150.0\" y1=\"150.0\" x2=\"180.0\" y2=\"150.0\" stroke-linecap=\"round\" style=\"stroke:purple;stroke-width:1\" /><line x1=\"180.0\" y1=\"150.0\" x2=\"180.0\" y2=\"120.0\" stroke-linecap=\"round\" style=\"stroke:purple;stroke-width:1\" /><line x1=\"180.0\" y1=\"120.0\" x2=\"180.0\" y2=\"90.0\" stroke-linecap=\"round\" style=\"stroke:purple;stroke-width:1\" /><line x1=\"180.0\" y1=\"90.0\" x2=\"150.0\" y2=\"90.0\" stroke-linecap=\"round\" style=\"stroke:purple;stroke-width:1\" /><line x1=\"150.0\" y1=\"90.0\" x2=\"150.0\" y2=\"60.0\" stroke-linecap=\"round\" style=\"stroke:purple;stroke-width:1\" /><line x1=\"150.0\" y1=\"60.0\" x2=\"150.0\" y2=\"30.0\" stroke-linecap=\"round\" style=\"stroke:purple;stroke-width:1\" /><line x1=\"150.0\" y1=\"30.0\" x2=\"180.0\" y2=\"30.0\" stroke-linecap=\"round\" style=\"stroke:purple;stroke-width:1\" /><line x1=\"180.0\" y1=\"30.0\" x2=\"210.0\" y2=\"30.0\" stroke-linecap=\"round\" style=\"stroke:purple;stroke-width:1\" /><line x1=\"210.0\" y1=\"30.0\" x2=\"240.0\" y2=\"30.0\" stroke-linecap=\"round\" style=\"stroke:purple;stroke-width:1\" /><line x1=\"240.0\" y1=\"30.0\" x2=\"270.0\" y2=\"30.0\" stroke-linecap=\"round\" style=\"stroke:purple;stroke-width:1\" /><line x1=\"270.0\" y1=\"30.0\" x2=\"270.0\" y2=\"60.0\" stroke-linecap=\"round\" style=\"stroke:purple;stroke-width:1\" /><line x1=\"270.0\" y1=\"60.0\" x2=\"270.0\" y2=\"90.0\" stroke-linecap=\"round\" style=\"stroke:purple;stroke-width:1\" /><line x1=\"270.0\" y1=\"90.0\" x2=\"270.0\" y2=\"120.0\" stroke-linecap=\"round\" style=\"stroke:purple;stroke-width:1\" /><line x1=\"270.0\" y1=\"120.0\" x2=\"270.0\" y2=\"150.0\" stroke-linecap=\"round\" style=\"stroke:purple;stroke-width:1\" /><line x1=\"270.0\" y1=\"150.0\" x2=\"240.0\" y2=\"150.0\" stroke-linecap=\"round\" style=\"stroke:purple;stroke-width:1\" /><line x1=\"240.0\" y1=\"150.0\" x2=\"240.0\" y2=\"120.0\" stroke-linecap=\"round\" style=\"stroke:purple;stroke-width:1\" /><line x1=\"240.0\" y1=\"120.0\" x2=\"240.0\" y2=\"150.0\" stroke-linecap=\"round\" style=\"stroke:red;stroke-width:1\" /><line x1=\"240.0\" y1=\"150.0\" x2=\"210.0\" y2=\"150.0\" stroke-linecap=\"round\" style=\"stroke:purple;stroke-width:1\" /><line x1=\"210.0\" y1=\"150.0\" x2=\"240.0\" y2=\"150.0\" stroke-linecap=\"round\" style=\"stroke:red;stroke-width:1\" /><line x1=\"240.0\" y1=\"150.0\" x2=\"270.0\" y2=\"150.0\" stroke-linecap=\"round\" style=\"stroke:red;stroke-width:1\" /><line x1=\"270.0\" y1=\"150.0\" x2=\"270.0\" y2=\"120.0\" stroke-linecap=\"round\" style=\"stroke:red;stroke-width:1\" /><line x1=\"270.0\" y1=\"120.0\" x2=\"240.0\" y2=\"120.0\" stroke-linecap=\"round\" style=\"stroke:purple;stroke-width:1\" /><line x1=\"240.0\" y1=\"120.0\" x2=\"240.0\" y2=\"150.0\" stroke-linecap=\"round\" style=\"stroke:purple;stroke-width:1\" /><line x1=\"240.0\" y1=\"150.0\" x2=\"270.0\" y2=\"150.0\" stroke-linecap=\"round\" style=\"stroke:purple;stroke-width:1\" /><line x1=\"270.0\" y1=\"150.0\" x2=\"240.0\" y2=\"150.0\" stroke-linecap=\"round\" style=\"stroke:red;stroke-width:1\" /><line x1=\"240.0\" y1=\"150.0\" x2=\"230.0\" y2=\"150.0\" stroke-linecap=\"round\" style=\"stroke:purple;stroke-width:1\" /><line x1=\"230.0\" y1=\"150.0\" x2=\"220.0\" y2=\"150.0\" stroke-linecap=\"round\" style=\"stroke:purple;stroke-width:1\" /><line x1=\"220.0\" y1=\"150.0\" x2=\"210.0\" y2=\"150.0\" stroke-linecap=\"round\" style=\"stroke:purple;stroke-width:1\" />\n",
              "        \n",
              "        \n",
              "        <g id=\"classic\" visibility=\"visible\" transform=\"rotate(-180.0,210.0,150.0) translate(210.0, 150.0)\">\n",
              "<polygon points=\"-5,-4.5 0,-2.5 5,-4.5 0,4.5\" transform=\"skewX(0) scale(1,1)\" style=\"stroke:purple;fill:black;stroke-width:1\" />\n",
              "</g>\n",
              "      </svg>\n",
              "    "
            ]
          },
          "metadata": {}
        },
        {
          "output_type": "stream",
          "name": "stdout",
          "text": [
            "길을 찾을 수 없습니다.\n",
            "길을 찾을 수 없습니다.\n",
            "길을 찾을 수 없습니다.\n",
            "길을 찾을 수 없습니다.\n",
            "길을 찾을 수 없습니다.\n",
            "더 이상 길을 찾지 않겠습니다.\n",
            "[[0, 1, 2, 2, 2, 0, 1, 0, 0, 0],\n",
            " [2, 2, 2, 1, 2, 0, 1, 0, 1, 0],\n",
            " [2, 1, 1, 0, 2, 0, 0, 0, 0, 0],\n",
            " [2, 2, 1, 1, 2, 1, 1, 0, 1, 0],\n",
            " [0, 2, 2, 2, 2, 1, 1, 1, 0, 0],\n",
            " [0, 1, 0, 0, 0, 0, 1, 0, 0, 0],\n",
            " [0, 0, 0, 1, 0, 0, 1, 0, 1, 0],\n",
            " [0, 1, 1, 0, 0, 0, 0, 0, 0, 0],\n",
            " [0, 0, 1, 1, 0, 1, 1, 0, 1, 0],\n",
            " [0, 0, 0, 0, 0, 1, 1, 1, 0, 0]]\n"
          ]
        }
      ]
    },
    {
      "cell_type": "code",
      "source": [
        "# 길을 찾지 못할 경우 확인 테스트\n",
        "!pip install ColabTurtlePlus # ColabTurtle 라이브러리 설치\n",
        "from ColabTurtlePlus.Turtle import * # ColabTurtle 라이브러리에서 Turtle 클래스를 import\n",
        "\n",
        "\n",
        "# 미로 데이터\n",
        "maze = [\n",
        "    [0, 0, 1, 0, 0],\n",
        "    [0, 0, 1, 0, 0],\n",
        "    [0, 0, 0, 1, 0],\n",
        "    [1, 0, 1, 1, 0],\n",
        "    [0, 0, 0, 0, 0]\n",
        "]\n",
        "cnt = 0\n",
        "\n",
        "# 시작 위치와 목적지 위치\n",
        "start_x, start_y = 0, 0\n",
        "end_x, end_y = 4, 4\n",
        "\n",
        "# 터틀 초기 설정\n",
        "window = (100, 100)\n",
        "initializeTurtle(window, 'logo')\n",
        "speed(1)\n",
        "\n",
        "# 미로 찾기 알고리즘\n",
        "def solve_maze(x, y):\n",
        "  global cnt\n",
        "  # 목적지에 도착한 경우\n",
        "  if x == end_x and y == end_y:\n",
        "\n",
        "      # \"미로를 찾았습니다\" 라는 문장을 출력하고\n",
        "      print('미로를 찾았습니다.')\n",
        "\n",
        "      # True를 반환한다.\n",
        "      return True\n",
        "\n",
        "  # 현재 위치에서 갈 수 있는 방향 탐색\n",
        "  for dx, dy in [(0, 1), (1, 0), (0, -1), (-1, 0)]:\n",
        "      nx, ny = x + dx, y + dy\n",
        "\n",
        "      # 미로 범위(0,0 ~ 4,4) 내에 있고, 갈 수 있는 길인 경우\n",
        "      if 0 <= nx < 5 and 0 <= ny < 5 and maze[nx][ny] == 0:\n",
        "\n",
        "          # 갔던 길 표시\n",
        "          maze[nx][ny] = 2\n",
        "\n",
        "          pendown()\n",
        "          # 다음 위치로 이동\n",
        "          goto(nx*10, ny*10)  # 거북이 다음 위치로 이동\n",
        "\n",
        "          penup()\n",
        "\n",
        "          # 코드를 해석해주세요!!\n",
        "          # solve_maze()함수를 호출하고, 목적지에 도착을 했다면 True를 반환하여 if 조건문을 통과한 뒤 다시 True를 반환한다.\n",
        "          # 그게 아니라면 이전으로 돌아간다.\n",
        "          if solve_maze(nx, ny):\n",
        "              return True\n",
        "          else:\n",
        "              # 다시 이전으로 돌아가기\n",
        "              pencolor('red')\n",
        "              pendown()\n",
        "              goto(x*10, y*10)\n",
        "              penup()\n",
        "              # 표시된 길 0표시(지우기)\n",
        "              maze[nx][ny] = 0\n",
        "\n",
        "  # 길을 찾지 못한 경우\n",
        "  # \"길을 찾을 수 없습니다\"를 출력하고\n",
        "  # False를 리턴\n",
        "  if cnt < 5:\n",
        "    print(\"길을 찾을 수 없습니다.\")\n",
        "    cnt += 1\n",
        "    return False\n",
        "  else:\n",
        "    print(\"더 이상 길을 찾지 않겠습니다.\")\n",
        "    return True\n",
        "\n",
        "# 시작 위치에서 미로 찾기 시작\n",
        "goto(start_x, start_y)\n",
        "solve_maze(start_x, start_y)\n",
        "import pprint\n",
        "pprint.pprint(maze)"
      ],
      "metadata": {
        "colab": {
          "base_uri": "https://localhost:8080/",
          "height": 336
        },
        "id": "1hk1nNZBxS0v",
        "outputId": "cbefea17-13a7-49c7-ff06-7c2558389f70"
      },
      "execution_count": null,
      "outputs": [
        {
          "output_type": "stream",
          "name": "stdout",
          "text": [
            "Requirement already satisfied: ColabTurtlePlus in /usr/local/lib/python3.10/dist-packages (2.0.1)\n"
          ]
        },
        {
          "output_type": "display_data",
          "data": {
            "text/plain": [
              "<IPython.core.display.HTML object>"
            ],
            "text/html": [
              "\n",
              "      <svg width=\"100\" height=\"100\">  \n",
              "        <rect width=\"100%\" height=\"100%\" style=\"fill:white;stroke:;stroke-width:1\"/>\n",
              "        \n",
              "        \n",
              "        <line x1=\"50.0\" y1=\"50.0\" x2=\"50.0\" y2=\"50.0\" stroke-linecap=\"round\" style=\"stroke:black;stroke-width:1\" /><line x1=\"50.0\" y1=\"50.0\" x2=\"50.0\" y2=\"40.0\" stroke-linecap=\"round\" style=\"stroke:black;stroke-width:1\" /><line x1=\"50.0\" y1=\"40.0\" x2=\"60.0\" y2=\"40.0\" stroke-linecap=\"round\" style=\"stroke:black;stroke-width:1\" /><line x1=\"60.0\" y1=\"40.0\" x2=\"70.0\" y2=\"40.0\" stroke-linecap=\"round\" style=\"stroke:black;stroke-width:1\" /><line x1=\"70.0\" y1=\"40.0\" x2=\"70.0\" y2=\"30.0\" stroke-linecap=\"round\" style=\"stroke:black;stroke-width:1\" /><line x1=\"70.0\" y1=\"30.0\" x2=\"70.0\" y2=\"40.0\" stroke-linecap=\"round\" style=\"stroke:red;stroke-width:1\" /><line x1=\"70.0\" y1=\"40.0\" x2=\"80.0\" y2=\"40.0\" stroke-linecap=\"round\" style=\"stroke:red;stroke-width:1\" /><line x1=\"80.0\" y1=\"40.0\" x2=\"70.0\" y2=\"40.0\" stroke-linecap=\"round\" style=\"stroke:red;stroke-width:1\" /><line x1=\"70.0\" y1=\"40.0\" x2=\"70.0\" y2=\"50.0\" stroke-linecap=\"round\" style=\"stroke:red;stroke-width:1\" /><line x1=\"70.0\" y1=\"50.0\" x2=\"60.0\" y2=\"50.0\" stroke-linecap=\"round\" style=\"stroke:red;stroke-width:1\" /><line x1=\"60.0\" y1=\"50.0\" x2=\"50.0\" y2=\"50.0\" stroke-linecap=\"round\" style=\"stroke:red;stroke-width:1\" /><line x1=\"50.0\" y1=\"50.0\" x2=\"60.0\" y2=\"50.0\" stroke-linecap=\"round\" style=\"stroke:red;stroke-width:1\" /><line x1=\"60.0\" y1=\"50.0\" x2=\"70.0\" y2=\"50.0\" stroke-linecap=\"round\" style=\"stroke:red;stroke-width:1\" /><line x1=\"70.0\" y1=\"50.0\" x2=\"70.0\" y2=\"40.0\" stroke-linecap=\"round\" style=\"stroke:red;stroke-width:1\" />\n",
              "        \n",
              "        \n",
              "        <g id=\"classic\" visibility=\"visible\" transform=\"rotate(180.0,70.0,40.0) translate(70.0, 40.0)\">\n",
              "<polygon points=\"-5,-4.5 0,-2.5 5,-4.5 0,4.5\" transform=\"skewX(0) scale(1,1)\" style=\"stroke:red;fill:black;stroke-width:1\" />\n",
              "</g>\n",
              "      </svg>\n",
              "    "
            ]
          },
          "metadata": {}
        },
        {
          "output_type": "stream",
          "name": "stdout",
          "text": [
            "길을 찾을 수 없습니다.\n",
            "길을 찾을 수 없습니다.\n",
            "길을 찾을 수 없습니다.\n",
            "길을 찾을 수 없습니다.\n",
            "길을 찾을 수 없습니다.\n",
            "더 이상 길을 찾지 않겠습니다.\n",
            "[[0, 2, 1, 0, 0],\n",
            " [0, 2, 1, 0, 0],\n",
            " [0, 2, 0, 1, 0],\n",
            " [1, 0, 1, 1, 0],\n",
            " [0, 1, 0, 0, 0]]\n"
          ]
        }
      ]
    },
    {
      "cell_type": "markdown",
      "source": [
        "> # 회고\n",
        "\n",
        "아직 코드를 순서대로 이해한다기 보단 기능 하나 하나에 집중을 하다보니 팀원 그루분이 많이 답답해하셨을거 같다.\n",
        "코드 별로 차근차근 읽다보니 전체적인 흐름을 파악할 수 있었고, 프로그램을 완성하니 기능적인 궁금증이 생겨 더 찾아볼 수 있었다.\n",
        "요구사항을 정리하여 주석으로 적어놓고 차근차근 나아가는 연습을 더 해야할 것 같다."
      ],
      "metadata": {
        "id": "mZ97NW5U9BMi"
      }
    }
  ]
}